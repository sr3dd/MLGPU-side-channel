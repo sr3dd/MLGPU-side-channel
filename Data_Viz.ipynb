{
 "cells": [
  {
   "cell_type": "markdown",
   "id": "03705ba1",
   "metadata": {},
   "source": [
    "# Initial Power Measurement Data Analysis"
   ]
  },
  {
   "cell_type": "code",
   "execution_count": null,
   "id": "3b2c31be",
   "metadata": {},
   "outputs": [],
   "source": [
    "import pandas as pd\n",
    "\n",
    "# Graphing module imports\n",
    "import plotly.graph_objects as go\n",
    "import plotly.express as px\n",
    "import plotly.io as pio\n",
    "pio.renderers.default='notebook'\n",
    "from plotly.subplots import make_subplots"
   ]
  },
  {
   "cell_type": "code",
   "execution_count": null,
   "id": "4624ec4b",
   "metadata": {},
   "outputs": [],
   "source": [
    "df1 = pd.read_csv('data/powermeter_04042023.txt', header=None, parse_dates = [1], sep = '\\t', names = ['power', 'time'])"
   ]
  },
  {
   "cell_type": "markdown",
   "id": "07e0e06c",
   "metadata": {},
   "source": [
    "## Power measurement from circuit"
   ]
  },
  {
   "cell_type": "code",
   "execution_count": null,
   "id": "e2714aa2",
   "metadata": {},
   "outputs": [],
   "source": [
    "df1"
   ]
  },
  {
   "cell_type": "code",
   "execution_count": null,
   "id": "43397411",
   "metadata": {},
   "outputs": [],
   "source": [
    "with open('data/smipower_04042023.txt') as f:\n",
    "    data = f.readlines()\n",
    "    \n",
    "data = [eval(x.strip()) for x in data]\n",
    "data = [{'power': x['Power'].strip(), 'time': x['Time']} for x in data]\n",
    "df2 = pd.DataFrame(data)\n",
    "df2['time'] = pd.to_datetime(df2['time'])\n",
    "df2['power'] = pd.to_numeric(df2['power'])"
   ]
  },
  {
   "cell_type": "markdown",
   "id": "8fba7208",
   "metadata": {},
   "source": [
    "## Power measurement from nvidia-smi"
   ]
  },
  {
   "cell_type": "code",
   "execution_count": null,
   "id": "a55f18cd",
   "metadata": {},
   "outputs": [],
   "source": [
    "df2"
   ]
  },
  {
   "cell_type": "code",
   "execution_count": null,
   "id": "9156cbfc",
   "metadata": {},
   "outputs": [],
   "source": [
    "fig = make_subplots(rows=2, cols=1)\n",
    "fig.add_trace(go.Scatter(x=df1['time'], y=df1['power'], mode='lines'), row=1, col=1)\n",
    "fig.add_trace(go.Scatter(x=df1['time'], y=df1['power'], mode='markers'), row=2, col=1)\n",
    "#fig.update_xaxes(rangeslider_visible=True)\n",
    "fig.show()"
   ]
  },
  {
   "cell_type": "code",
   "execution_count": null,
   "id": "d90ef267",
   "metadata": {},
   "outputs": [],
   "source": [
    "fig = make_subplots(rows=2, cols=1)\n",
    "fig.add_trace(go.Scatter(x=df2['time'], y=df2['power'], mode='lines'), row=1, col=1)\n",
    "#fig.add_trace(go.Scatter(x=df1['time'], y=df1['power'], mode='lines'), row=2, col=1)\n",
    "fig.update_xaxes(rangeslider_visible=True)\n",
    "fig.show()"
   ]
  },
  {
   "cell_type": "markdown",
   "id": "ccb7c0fc",
   "metadata": {},
   "source": [
    "## Combined power measurements from both sources"
   ]
  },
  {
   "cell_type": "code",
   "execution_count": null,
   "id": "4fdac253",
   "metadata": {},
   "outputs": [],
   "source": [
    "pieces = {'meter': df1, 'smi': df2}\n",
    "df_concate = pd.concat(pieces, names=['source'])\n",
    "df_concate = df_concate.reset_index(level=0)\n",
    "df_concate"
   ]
  },
  {
   "cell_type": "code",
   "execution_count": null,
   "id": "1603e516",
   "metadata": {},
   "outputs": [],
   "source": [
    "# A plot comparing SMI and meter measurements directly\n",
    "# An interesting figure if SMI output and meter readings captured together\n",
    "\n",
    "fig = px.line(df_concate, x='time', y='power', color='source')\n",
    "fig.update_xaxes(rangeslider_visible=True)\n",
    "fig.show()"
   ]
  }
 ],
 "metadata": {
  "kernelspec": {
   "display_name": "Python 3 (ipykernel)",
   "language": "python",
   "name": "python3"
  },
  "language_info": {
   "codemirror_mode": {
    "name": "ipython",
    "version": 3
   },
   "file_extension": ".py",
   "mimetype": "text/x-python",
   "name": "python",
   "nbconvert_exporter": "python",
   "pygments_lexer": "ipython3",
   "version": "3.10.8"
  }
 },
 "nbformat": 4,
 "nbformat_minor": 5
}
